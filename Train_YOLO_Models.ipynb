{
  "cells": [
    {
      "cell_type": "markdown",
      "metadata": {
        "colab_type": "text",
        "id": "view-in-github"
      },
      "source": [
        "<a href=\"https://colab.research.google.com/github/MoussaNEYA/Yolo_detect_Object_model/blob/main/Train_YOLO_Models.ipynb\" target=\"_parent\"><img src=\"https://colab.research.google.com/assets/colab-badge.svg\" alt=\"Open In Colab\"/></a>"
      ]
    },
    {
      "cell_type": "markdown",
      "metadata": {
        "id": "1sUfcA8ZgR2t"
      },
      "source": [
        "## Entrainement avec Google Colab"
      ]
    },
    {
      "cell_type": "code",
      "execution_count": null,
      "metadata": {},
      "outputs": [],
      "source": []
    },
    {
      "cell_type": "markdown",
      "metadata": {
        "id": "3NW7LLv_QPOO"
      },
      "source": [
        "**Verification de la validité NVIDIA GPU**"
      ]
    },
    {
      "cell_type": "code",
      "execution_count": null,
      "metadata": {
        "id": "cfaWho47RGDf"
      },
      "outputs": [],
      "source": [
        "!nvidia-smi"
      ]
    },
    {
      "cell_type": "markdown",
      "metadata": {
        "id": "TIHu25pnjjJ1"
      },
      "source": [
        "## 1.&nbsp;Rassembler et étiqueter les images de formation"
      ]
    },
    {
      "cell_type": "markdown",
      "metadata": {
        "id": "8eDhuvzDfIFS"
      },
      "source": [
        "## 2.&nbsp;Télécharger l'ensemble de données d'image et préparer les données de formation"
      ]
    },
    {
      "cell_type": "markdown",
      "metadata": {
        "id": "ZW_0c110fOiz"
      },
      "source": [
        "Ensuite, nous allons importer notre jeu de données et le préparer pour l'entraînement avec YOLO. Nous allons diviser le jeu de données en dossiers d'entraînement et de validation, et générer automatiquement le fichier de configuration pour l'entraînement du modèle."
      ]
    },
    {
      "cell_type": "markdown",
      "metadata": {
        "id": "FwKAqFIQSBpn"
      },
      "source": [
        "## 2.1 Téléchargement d'images\n",
        "Tout d'abord, nous devons télécharger le jeu de données sur Colab."
      ]
    },
    {
      "cell_type": "markdown",
      "metadata": {
        "id": "TC4bZM1UWRdY"
      },
      "source": [
        "**Option 1. Télécharger via Google Drive**"
      ]
    },
    {
      "cell_type": "code",
      "execution_count": null,
      "metadata": {
        "id": "ZfQBSwDdWoWp"
      },
      "outputs": [],
      "source": [
        "from google.colab import drive\n",
        "drive.mount('/content/gdrive')\n",
        "\n",
        "!cp /content/gdrive/MyDrive/path/to/data.zip /content"
      ]
    },
    {
      "cell_type": "markdown",
      "metadata": {},
      "source": [
        "Option 2.Télécharger en local en chargeant les données sous format .zip"
      ]
    },
    {
      "cell_type": "markdown",
      "metadata": {
        "id": "m7Iz9eBzW5zm"
      },
      "source": [
        "## 2.2 Diviser les images en dossiers d'entrainement et de validation"
      ]
    },
    {
      "cell_type": "markdown",
      "metadata": {
        "id": "58JuFGc2PatU"
      },
      "source": []
    },
    {
      "cell_type": "code",
      "execution_count": null,
      "metadata": {
        "id": "z8O6z-wVcPEF"
      },
      "outputs": [],
      "source": [
        "# Décompressez les images dans un dossier de données personnalisé\n",
        "!unzip -q /content/data.zip -d /content/custom_data"
      ]
    },
    {
      "cell_type": "markdown",
      "metadata": {
        "id": "eoPjqW6AYebn"
      },
      "source": [
        "Ultralytics nécessite une structure de dossiers particulière pour stocker les données d'entraînement des modèles. Le dossier racine est nommé « data ». Il contient deux dossiers principaux :\n",
        "* **Train** : Ce sont les images utilisées pour entraîner le modèle. Lors d'une période d'entraînement, chaque image de l'ensemble d'entraînement est transmise au réseau de neurones. L'algorithme d'entraînement ajuste les pondérations du réseau pour correspondre aux données des images.\n",
        "* **Validation** : Ces images servent à vérifier les performances du modèle à la fin de chaque période d'entraînement.\n",
        "Chacun de ces dossiers contient un dossier « images » et un dossier « labels », qui contiennent respectivement les fichiers image et les fichiers d'annotation."
      ]
    },
    {
      "cell_type": "markdown",
      "metadata": {
        "id": "f2ohNAhWj41n"
      },
      "source": [
        "J'ai écrit un script Python qui crée automatiquement la structure de dossiers requise et déplace aléatoirement 90 % de l'ensemble de données vers le dossier « train » et 10 % vers le dossier « validation ». Exécutez le bloc de code suivant pour exécuter le script."
      ]
    },
    {
      "cell_type": "code",
      "execution_count": null,
      "metadata": {
        "id": "8X62eFTugosf"
      },
      "outputs": [],
      "source": [
        "# À faire : améliorer la robustesse du script train_val_split.py afin qu'il puisse gérer les dossiers de données imbriqués, etc.\n",
        "!python train_val_split.py --datapath=\"/content/custom_data\" --train_pct=0.9"
      ]
    },
    {
      "cell_type": "markdown",
      "metadata": {
        "id": "B2L2qGCJzwY9"
      },
      "source": [
        "## 3. Configuration requise pour l'installation (Ultralytics)\n",
        "Nous allons ensuite installer la bibliothèque Ultralytics dans cette instance Google Colab. Cette bibliothèque Python servira à entraîner le modèle YOLO."
      ]
    },
    {
      "cell_type": "code",
      "execution_count": null,
      "metadata": {
        "id": "EMEDk5byzxY5"
      },
      "outputs": [],
      "source": [
        "!pip install ultralytics"
      ]
    },
    {
      "cell_type": "markdown",
      "metadata": {
        "id": "cuZoMkSFN9XG"
      },
      "source": [
        "## 4.&nbsp;Configuré l'entrainement"
      ]
    },
    {
      "cell_type": "markdown",
      "metadata": {
        "id": "0c5Kdh0GmQHS"
      },
      "source": []
    },
    {
      "cell_type": "code",
      "execution_count": null,
      "metadata": {
        "id": "4letvP7X12ji"
      },
      "outputs": [],
      "source": [
        "# Fonction Python pour créer automatiquement le fichier de configuration data.yaml\n",
        "# 1. Lecture du fichier « classes.txt » pour obtenir la liste des noms de classes\n",
        "# 2. Création d'un dictionnaire de données avec les chemins d'accès corrects aux dossiers, le nombre de classes et leurs noms\n",
        "# 3. Écriture des données au format YAML dans data.yaml\n",
        "\n",
        "import yaml\n",
        "import os\n",
        "\n",
        "def create_data_yaml(path_to_classes_txt, path_to_data_yaml):\n",
        "\n",
        "# Lecture du fichier « classes.txt » pour obtenir la liste des noms de classes\n",
        "  if not os.path.exists(path_to_classes_txt):\n",
        "    print(f'classes.txt file not found! Please create a classes.txt labelmap and move it to {path_to_classes_txt}')\n",
        "    return\n",
        "  with open(path_to_classes_txt, 'r') as f:\n",
        "    classes = []\n",
        "    for line in f.readlines():\n",
        "      if len(line.strip()) == 0: continue\n",
        "      classes.append(line.strip())\n",
        "  number_of_classes = len(classes)\n",
        "\n",
        "# Créer un dictionnaire de données\n",
        "  data = {\n",
        "      'path': '/content/data',\n",
        "      'train': 'train/images',\n",
        "      'val': 'validation/images',\n",
        "      'nc': number_of_classes,\n",
        "      'names': classes\n",
        "  }\n",
        "\n",
        "# Écriture des données au format YAML dans data.yaml\n",
        "  with open(path_to_data_yaml, 'w') as f:\n",
        "    yaml.dump(data, f, sort_keys=False)\n",
        "  print(f'Created config file at {path_to_data_yaml}')\n",
        "\n",
        "  return\n",
        "\n",
        "# Définir le dossier de classes.txt et exécuter function\n",
        "path_to_classes_txt = '/content/custom_data/classes.txt'\n",
        "path_to_data_yaml = '/content/data.yaml'\n",
        "\n",
        "create_data_yaml(path_to_classes_txt, path_to_data_yaml)\n",
        "\n",
        "print('\\nFile contents:\\n')\n",
        "!cat /content/data.yaml"
      ]
    },
    {
      "cell_type": "markdown",
      "metadata": {
        "id": "myP80_bnTNMi"
      },
      "source": [
        "## 5.&nbsp;Entrainement du Model"
      ]
    },
    {
      "cell_type": "markdown",
      "metadata": {
        "id": "DfKspYasCzC8"
      },
      "source": [
        "## 5.1 Paramètre de l'entrainement\n",
        "**Architecture et taille du modèle (`model`) :**\n",
        "Vous pouvez également entraîner les modèles `YOLOv8` ou `YOLOv5` en remplaçant `yolov8` ou `yolov5` par `yolo11`.\n",
        "\n",
        "**Nombre d'époques (`epochs`)**\n",
        "\n",
        "**Résolution (`imgsz`)**"
      ]
    },
    {
      "cell_type": "markdown",
      "metadata": {
        "id": "V17UjYU5ZQdR"
      },
      "source": [
        "## 5.2 Lancement de l'entrainement!"
      ]
    },
    {
      "cell_type": "markdown",
      "metadata": {
        "id": "nQi_hXnUVPr-"
      },
      "source": [
        "Exécutez le bloc de code suivant pour commencer l'entraînement. Si vous souhaitez utiliser un modèle, un nombre d'époques ou une résolution différents, modifiez `model`, `epochs` ou `imgsz`."
      ]
    },
    {
      "cell_type": "code",
      "execution_count": null,
      "metadata": {
        "id": "8bbpob1gTPlo"
      },
      "outputs": [],
      "source": [
        "!yolo detect train data=/content/data.yaml model=yolo11s.pt epochs=60 imgsz=640"
      ]
    },
    {
      "cell_type": "markdown",
      "metadata": {
        "id": "vv0EYWJ5V6mC"
      },
      "source": [
        "**NB :** Il faut permettre à la formation de s'exécuter jusqu'à son terme, car un optimiseur s'exécute à la fin de la formation et supprime les couches inutiles du modèle."
      ]
    },
    {
      "cell_type": "markdown",
      "metadata": {
        "id": "vo8BJRXeg0Ap"
      },
      "source": [
        "## 6.&nbsp;Test du Model"
      ]
    },
    {
      "cell_type": "markdown",
      "metadata": {
        "id": "BX3PTrEPacGY"
      },
      "source": []
    },
    {
      "cell_type": "code",
      "execution_count": null,
      "metadata": {
        "id": "PooP5Vjsg2Jn"
      },
      "outputs": [],
      "source": [
        "!yolo detect predict model=runs/detect/train/weights/best.pt source=data/validation/images save=True"
      ]
    },
    {
      "cell_type": "markdown",
      "metadata": {},
      "source": [
        "**Pour afficher les 10 première données de test**"
      ]
    },
    {
      "cell_type": "code",
      "execution_count": null,
      "metadata": {
        "id": "zEEObQqoiGrs"
      },
      "outputs": [],
      "source": [
        "import glob\n",
        "from IPython.display import Image, display\n",
        "for image_path in glob.glob(f'/content/runs/detect/predict/*.jpg')[:10]:\n",
        "  display(Image(filename=image_path, height=400))\n",
        "  print('\\n')\n"
      ]
    },
    {
      "cell_type": "markdown",
      "metadata": {
        "id": "W7yrFRViVczX"
      },
      "source": [
        "## 7.&nbsp;Deploiyement du Model"
      ]
    },
    {
      "cell_type": "code",
      "execution_count": null,
      "metadata": {},
      "outputs": [],
      "source": []
    },
    {
      "cell_type": "markdown",
      "metadata": {
        "id": "IcoBAeHXa86W"
      },
      "source": [
        "## 7.1 Téléchargement de notre model YOLO"
      ]
    },
    {
      "cell_type": "code",
      "execution_count": null,
      "metadata": {
        "id": "qcBdnOA9v85S"
      },
      "outputs": [],
      "source": [
        "# Creation de \"my_model\" dossier pour stocker les poids des modèles et résultats entraînement\n",
        "!mkdir /content/my_model\n",
        "!cp /content/runs/detect/train/weights/best.pt /content/my_model/my_model.pt\n",
        "!cp -r /content/runs/detect/train /content/my_model\n",
        "\n",
        "# Pour zipper notre model \"my_model.zip\"\n",
        "%cd my_model\n",
        "!zip /content/my_model.zip my_model.pt\n",
        "!zip -r /content/my_model.zip train\n",
        "%cd /content"
      ]
    },
    {
      "cell_type": "code",
      "execution_count": null,
      "metadata": {
        "id": "43ypwonynLVu"
      },
      "outputs": [],
      "source": [
        "# Téléchargement du model en local\n",
        "from google.colab import files\n",
        "\n",
        "files.download('/content/my_model.zip')"
      ]
    },
    {
      "cell_type": "markdown",
      "metadata": {
        "id": "YL06c6pb_UqZ"
      },
      "source": [
        "## 7.2 Déploiyement du moedel Yolo en local "
      ]
    },
    {
      "cell_type": "markdown",
      "metadata": {
        "id": "gzaJQ2sGEPhP"
      },
      "source": [
        "## 7.2.1 Deployer sur mon PC\n",
        "**1. Télécharger et installé Anaconda ou Miniconda (c'est ce que je vous recommande le plus)**\n",
        "\n",
        "**2. Créer un environnement virtuelle**\n",
        "\n",
        "```\n",
        "conda create --name yolo-env1 python=3.12 -y\n",
        "conda activate yolo-env1\n",
        "```\n",
        "**Installé Ultralytics :**\n",
        "```\n",
        "pip install ultralytics\n",
        "```\n",
        "**Si vous disposez d'un GPU NVIDIA, vous pouvez installer la version compatible GPU de PyTorch en exécutant la commande suivante :**\n",
        "```\n",
        "pip install --upgrade torch torchvision torchaudio --index-url https://download.pytorch.org/whl/cu124\n",
        "```\n",
        "**3. Extraction du model**\n",
        "il s'agit ddézipper le fichier `my_model.zip` télécharger à l'etape 7.1 précédent\n",
        "\n",
        "```\n",
        "cd emplacement/du/dossier\n",
        "```\n",
        "**4. Déplacer le script déexecution yolo_detect.py dans le dossier dézipper précedement**\n",
        "\n",
        "Très bien ! Nous sommes prêts à exécuter le script. Pour exécuter l'inférence avec un modèle `yolov8s` sur une caméra USB en résolution 1280 x 720, exécutez:\n",
        "```\n",
        "python yolo_detect.py --model my_model.pt --source usb0 --resolution 1280x720\n",
        "```\n",
        "Une fenêtre apparaîtra affichant un flux en direct de votre webcam avec des cadres dessinés autour des objets détectés dans chaque image.\n",
        "\n",
        "```\n",
        "Pour plus de détaille taper python yolo_detect.py --help\n",
        "\n",
        "```"
      ]
    },
    {
      "cell_type": "markdown",
      "metadata": {
        "id": "y8fOJ4g8Q5x0"
      },
      "source": [
        "## 8.&nbsp;Conclusion"
      ]
    },
    {
      "cell_type": "markdown",
      "metadata": {
        "id": "DEZGuG1-Peg5"
      },
      "source": [
        "Félicitations! à nous; qui venions d'entraîné et déployé avec succès un modèle de détection d'objets YOLO. 😀"
      ]
    }
  ],
  "metadata": {
    "accelerator": "GPU",
    "colab": {
      "authorship_tag": "ABX9TyPuRguKZf93s2U7r74VPYrL",
      "gpuType": "T4",
      "include_colab_link": true,
      "provenance": []
    },
    "kernelspec": {
      "display_name": "Python 3",
      "name": "python3"
    },
    "language_info": {
      "name": "python"
    }
  },
  "nbformat": 4,
  "nbformat_minor": 0
}
